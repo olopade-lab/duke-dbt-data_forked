{
 "cells": [
  {
   "cell_type": "code",
   "execution_count": 31,
   "metadata": {},
   "outputs": [],
   "source": [
    "import pandas as pd \n",
    "import numpy as np\n",
    "pd.set_option('display.max_columns', None)\n",
    "pd.set_option('display.expand_frame_repr', False)\n",
    "pd.set_option('max_colwidth', None)"
   ]
  },
  {
   "cell_type": "code",
   "execution_count": 32,
   "metadata": {},
   "outputs": [],
   "source": [
    "path_to_data = \"/scratch/ojomoleye/dukedata/\"\n",
    "training_groups =  path_to_data + \"trainingset_clingroups.csv\"\n",
    "training_files = path_to_data + \"trainingset_paths_studies_views.csv\"\n",
    "traingroups = pd.read_csv(training_groups)\n",
    "trainfiles = pd.read_csv(training_files)"
   ]
  },
  {
   "attachments": {},
   "cell_type": "markdown",
   "metadata": {},
   "source": [
    "# Data description\n",
    " - No of patients\n",
    " - No of studies \n",
    " - Normal, Benign, Cancerous and Actionable studies (patients)"
   ]
  },
  {
   "cell_type": "code",
   "execution_count": 41,
   "metadata": {},
   "outputs": [],
   "source": [
    "num_train_pts = traingroups.PatientID.nunique()\n",
    "num_train_pics = len(traingroups)\n",
    "num_train_studies = traingroups.StudyUID.nunique()"
   ]
  },
  {
   "cell_type": "code",
   "execution_count": 43,
   "metadata": {},
   "outputs": [
    {
     "name": "stdout",
     "output_type": "stream",
     "text": [
      "there are 4362 patients, 4838 studies and 19148 total views in the training group\n"
     ]
    }
   ],
   "source": [
    "print('there are {} patients, {} studies and {} total views in the training group'.format(\n",
    "    num_train_pts, num_train_studies, num_train_pics))"
   ]
  },
  {
   "cell_type": "code",
   "execution_count": 44,
   "metadata": {},
   "outputs": [
    {
     "data": {
      "text/html": [
       "<div>\n",
       "<style scoped>\n",
       "    .dataframe tbody tr th:only-of-type {\n",
       "        vertical-align: middle;\n",
       "    }\n",
       "\n",
       "    .dataframe tbody tr th {\n",
       "        vertical-align: top;\n",
       "    }\n",
       "\n",
       "    .dataframe thead th {\n",
       "        text-align: right;\n",
       "    }\n",
       "</style>\n",
       "<table border=\"1\" class=\"dataframe\">\n",
       "  <thead>\n",
       "    <tr style=\"text-align: right;\">\n",
       "      <th></th>\n",
       "      <th>PatientID</th>\n",
       "      <th>StudyUID</th>\n",
       "      <th>View</th>\n",
       "      <th>Normal</th>\n",
       "      <th>Actionable</th>\n",
       "      <th>Benign</th>\n",
       "      <th>Cancer</th>\n",
       "    </tr>\n",
       "  </thead>\n",
       "  <tbody>\n",
       "    <tr>\n",
       "      <th>0</th>\n",
       "      <td>DBT-P00013</td>\n",
       "      <td>DBT-S00163</td>\n",
       "      <td>rmlo</td>\n",
       "      <td>0</td>\n",
       "      <td>0</td>\n",
       "      <td>1</td>\n",
       "      <td>0</td>\n",
       "    </tr>\n",
       "    <tr>\n",
       "      <th>1</th>\n",
       "      <td>DBT-P00023</td>\n",
       "      <td>DBT-S04378</td>\n",
       "      <td>lcc</td>\n",
       "      <td>0</td>\n",
       "      <td>1</td>\n",
       "      <td>0</td>\n",
       "      <td>0</td>\n",
       "    </tr>\n",
       "    <tr>\n",
       "      <th>2</th>\n",
       "      <td>DBT-P00023</td>\n",
       "      <td>DBT-S04378</td>\n",
       "      <td>lmlo</td>\n",
       "      <td>0</td>\n",
       "      <td>1</td>\n",
       "      <td>0</td>\n",
       "      <td>0</td>\n",
       "    </tr>\n",
       "    <tr>\n",
       "      <th>3</th>\n",
       "      <td>DBT-P00023</td>\n",
       "      <td>DBT-S04378</td>\n",
       "      <td>rcc</td>\n",
       "      <td>0</td>\n",
       "      <td>1</td>\n",
       "      <td>0</td>\n",
       "      <td>0</td>\n",
       "    </tr>\n",
       "    <tr>\n",
       "      <th>4</th>\n",
       "      <td>DBT-P00023</td>\n",
       "      <td>DBT-S04378</td>\n",
       "      <td>rmlo</td>\n",
       "      <td>0</td>\n",
       "      <td>1</td>\n",
       "      <td>0</td>\n",
       "      <td>0</td>\n",
       "    </tr>\n",
       "  </tbody>\n",
       "</table>\n",
       "</div>"
      ],
      "text/plain": [
       "    PatientID    StudyUID  View  Normal  Actionable  Benign  Cancer\n",
       "0  DBT-P00013  DBT-S00163  rmlo       0           0       1       0\n",
       "1  DBT-P00023  DBT-S04378   lcc       0           1       0       0\n",
       "2  DBT-P00023  DBT-S04378  lmlo       0           1       0       0\n",
       "3  DBT-P00023  DBT-S04378   rcc       0           1       0       0\n",
       "4  DBT-P00023  DBT-S04378  rmlo       0           1       0       0"
      ]
     },
     "execution_count": 44,
     "metadata": {},
     "output_type": "execute_result"
    }
   ],
   "source": [
    "traingroups.head()"
   ]
  },
  {
   "attachments": {},
   "cell_type": "markdown",
   "metadata": {},
   "source": [
    "The file paths in the csv that comes with the download isn't exactly the same as with our download. The file name is different but the directories from PatientID to the penultimate correspond."
   ]
  },
  {
   "cell_type": "code",
   "execution_count": 45,
   "metadata": {},
   "outputs": [],
   "source": [
    "trainfiles.head()\n",
    "trainfiles['real_path'] = trainfiles.classic_path.str.split(\"/\").str[1:4].apply(lambda x: path_to_data + \"/\".join(x) + \"/*.dcm\")"
   ]
  },
  {
   "cell_type": "code",
   "execution_count": 46,
   "metadata": {},
   "outputs": [
    {
     "data": {
      "text/html": [
       "<div>\n",
       "<style scoped>\n",
       "    .dataframe tbody tr th:only-of-type {\n",
       "        vertical-align: middle;\n",
       "    }\n",
       "\n",
       "    .dataframe tbody tr th {\n",
       "        vertical-align: top;\n",
       "    }\n",
       "\n",
       "    .dataframe thead th {\n",
       "        text-align: right;\n",
       "    }\n",
       "</style>\n",
       "<table border=\"1\" class=\"dataframe\">\n",
       "  <thead>\n",
       "    <tr style=\"text-align: right;\">\n",
       "      <th></th>\n",
       "      <th>PatientID</th>\n",
       "      <th>StudyUID</th>\n",
       "      <th>View</th>\n",
       "      <th>descriptive_path</th>\n",
       "      <th>classic_path</th>\n",
       "      <th>real_path</th>\n",
       "    </tr>\n",
       "  </thead>\n",
       "  <tbody>\n",
       "    <tr>\n",
       "      <th>0</th>\n",
       "      <td>DBT-P00013</td>\n",
       "      <td>DBT-S00163</td>\n",
       "      <td>rmlo</td>\n",
       "      <td>Breast-Cancer-Screening-DBT/DBT-P00013/01-01-2000-DBT-S00163-MAMMO DIAGNOSTIC DIGITAL BILATERAL-56865/20566.000000-32081/1-1.dcm</td>\n",
       "      <td>Breast-Cancer-Screening-DBT/DBT-P00013/1.2.826.0.1.3680043.8.498.97194784071397240980122342729639556865/1.2.826.0.1.3680043.8.498.97979602815077649368346148322369132081/1-1.dcm</td>\n",
       "      <td>/scratch/ojomoleye/dukedata/DBT-P00013/1.2.826.0.1.3680043.8.498.97194784071397240980122342729639556865/1.2.826.0.1.3680043.8.498.97979602815077649368346148322369132081/*.dcm</td>\n",
       "    </tr>\n",
       "    <tr>\n",
       "      <th>1</th>\n",
       "      <td>DBT-P00023</td>\n",
       "      <td>DBT-S04378</td>\n",
       "      <td>lcc</td>\n",
       "      <td>Breast-Cancer-Screening-DBT/DBT-P00023/01-01-2000-DBT-S04378-MAMMO SCREENING DIGITAL BILATERAL-20650/19711.000000-14072/1-1.dcm</td>\n",
       "      <td>Breast-Cancer-Screening-DBT/DBT-P00023/1.2.826.0.1.3680043.8.498.46740855673424283641249631860253820650/1.2.826.0.1.3680043.8.498.12136582480949936067549454937434114072/1-1.dcm</td>\n",
       "      <td>/scratch/ojomoleye/dukedata/DBT-P00023/1.2.826.0.1.3680043.8.498.46740855673424283641249631860253820650/1.2.826.0.1.3680043.8.498.12136582480949936067549454937434114072/*.dcm</td>\n",
       "    </tr>\n",
       "    <tr>\n",
       "      <th>2</th>\n",
       "      <td>DBT-P00023</td>\n",
       "      <td>DBT-S04378</td>\n",
       "      <td>lmlo</td>\n",
       "      <td>Breast-Cancer-Screening-DBT/DBT-P00023/01-01-2000-DBT-S04378-MAMMO SCREENING DIGITAL BILATERAL-20650/19710.000000-51654/1-1.dcm</td>\n",
       "      <td>Breast-Cancer-Screening-DBT/DBT-P00023/1.2.826.0.1.3680043.8.498.46740855673424283641249631860253820650/1.2.826.0.1.3680043.8.498.90045035130681803298603121403642951654/1-1.dcm</td>\n",
       "      <td>/scratch/ojomoleye/dukedata/DBT-P00023/1.2.826.0.1.3680043.8.498.46740855673424283641249631860253820650/1.2.826.0.1.3680043.8.498.90045035130681803298603121403642951654/*.dcm</td>\n",
       "    </tr>\n",
       "    <tr>\n",
       "      <th>3</th>\n",
       "      <td>DBT-P00023</td>\n",
       "      <td>DBT-S04378</td>\n",
       "      <td>rcc</td>\n",
       "      <td>Breast-Cancer-Screening-DBT/DBT-P00023/01-01-2000-DBT-S04378-MAMMO SCREENING DIGITAL BILATERAL-20650/19712.000000-09387/1-1.dcm</td>\n",
       "      <td>Breast-Cancer-Screening-DBT/DBT-P00023/1.2.826.0.1.3680043.8.498.46740855673424283641249631860253820650/1.2.826.0.1.3680043.8.498.10822555886306795549982251172752709387/1-1.dcm</td>\n",
       "      <td>/scratch/ojomoleye/dukedata/DBT-P00023/1.2.826.0.1.3680043.8.498.46740855673424283641249631860253820650/1.2.826.0.1.3680043.8.498.10822555886306795549982251172752709387/*.dcm</td>\n",
       "    </tr>\n",
       "    <tr>\n",
       "      <th>4</th>\n",
       "      <td>DBT-P00023</td>\n",
       "      <td>DBT-S04378</td>\n",
       "      <td>rmlo</td>\n",
       "      <td>Breast-Cancer-Screening-DBT/DBT-P00023/01-01-2000-DBT-S04378-MAMMO SCREENING DIGITAL BILATERAL-20650/19713.000000-61579/1-1.dcm</td>\n",
       "      <td>Breast-Cancer-Screening-DBT/DBT-P00023/1.2.826.0.1.3680043.8.498.46740855673424283641249631860253820650/1.2.826.0.1.3680043.8.498.29938515490857039234478950570192161579/1-1.dcm</td>\n",
       "      <td>/scratch/ojomoleye/dukedata/DBT-P00023/1.2.826.0.1.3680043.8.498.46740855673424283641249631860253820650/1.2.826.0.1.3680043.8.498.29938515490857039234478950570192161579/*.dcm</td>\n",
       "    </tr>\n",
       "  </tbody>\n",
       "</table>\n",
       "</div>"
      ],
      "text/plain": [
       "    PatientID    StudyUID  View                                                                                                                  descriptive_path                                                                                                                                                                      classic_path                                                                                                                                                                       real_path\n",
       "0  DBT-P00013  DBT-S00163  rmlo  Breast-Cancer-Screening-DBT/DBT-P00013/01-01-2000-DBT-S00163-MAMMO DIAGNOSTIC DIGITAL BILATERAL-56865/20566.000000-32081/1-1.dcm  Breast-Cancer-Screening-DBT/DBT-P00013/1.2.826.0.1.3680043.8.498.97194784071397240980122342729639556865/1.2.826.0.1.3680043.8.498.97979602815077649368346148322369132081/1-1.dcm  /scratch/ojomoleye/dukedata/DBT-P00013/1.2.826.0.1.3680043.8.498.97194784071397240980122342729639556865/1.2.826.0.1.3680043.8.498.97979602815077649368346148322369132081/*.dcm\n",
       "1  DBT-P00023  DBT-S04378   lcc   Breast-Cancer-Screening-DBT/DBT-P00023/01-01-2000-DBT-S04378-MAMMO SCREENING DIGITAL BILATERAL-20650/19711.000000-14072/1-1.dcm  Breast-Cancer-Screening-DBT/DBT-P00023/1.2.826.0.1.3680043.8.498.46740855673424283641249631860253820650/1.2.826.0.1.3680043.8.498.12136582480949936067549454937434114072/1-1.dcm  /scratch/ojomoleye/dukedata/DBT-P00023/1.2.826.0.1.3680043.8.498.46740855673424283641249631860253820650/1.2.826.0.1.3680043.8.498.12136582480949936067549454937434114072/*.dcm\n",
       "2  DBT-P00023  DBT-S04378  lmlo   Breast-Cancer-Screening-DBT/DBT-P00023/01-01-2000-DBT-S04378-MAMMO SCREENING DIGITAL BILATERAL-20650/19710.000000-51654/1-1.dcm  Breast-Cancer-Screening-DBT/DBT-P00023/1.2.826.0.1.3680043.8.498.46740855673424283641249631860253820650/1.2.826.0.1.3680043.8.498.90045035130681803298603121403642951654/1-1.dcm  /scratch/ojomoleye/dukedata/DBT-P00023/1.2.826.0.1.3680043.8.498.46740855673424283641249631860253820650/1.2.826.0.1.3680043.8.498.90045035130681803298603121403642951654/*.dcm\n",
       "3  DBT-P00023  DBT-S04378   rcc   Breast-Cancer-Screening-DBT/DBT-P00023/01-01-2000-DBT-S04378-MAMMO SCREENING DIGITAL BILATERAL-20650/19712.000000-09387/1-1.dcm  Breast-Cancer-Screening-DBT/DBT-P00023/1.2.826.0.1.3680043.8.498.46740855673424283641249631860253820650/1.2.826.0.1.3680043.8.498.10822555886306795549982251172752709387/1-1.dcm  /scratch/ojomoleye/dukedata/DBT-P00023/1.2.826.0.1.3680043.8.498.46740855673424283641249631860253820650/1.2.826.0.1.3680043.8.498.10822555886306795549982251172752709387/*.dcm\n",
       "4  DBT-P00023  DBT-S04378  rmlo   Breast-Cancer-Screening-DBT/DBT-P00023/01-01-2000-DBT-S04378-MAMMO SCREENING DIGITAL BILATERAL-20650/19713.000000-61579/1-1.dcm  Breast-Cancer-Screening-DBT/DBT-P00023/1.2.826.0.1.3680043.8.498.46740855673424283641249631860253820650/1.2.826.0.1.3680043.8.498.29938515490857039234478950570192161579/1-1.dcm  /scratch/ojomoleye/dukedata/DBT-P00023/1.2.826.0.1.3680043.8.498.46740855673424283641249631860253820650/1.2.826.0.1.3680043.8.498.29938515490857039234478950570192161579/*.dcm"
      ]
     },
     "execution_count": 46,
     "metadata": {},
     "output_type": "execute_result"
    }
   ],
   "source": [
    "trainfiles.head()"
   ]
  },
  {
   "cell_type": "code",
   "execution_count": 47,
   "metadata": {},
   "outputs": [
    {
     "data": {
      "text/plain": [
       "True"
      ]
     },
     "execution_count": 47,
     "metadata": {},
     "output_type": "execute_result"
    }
   ],
   "source": [
    "len(trainfiles) == trainfiles.real_path.nunique() \n",
    "#There are no duplicates in the real paths. Should be able to use os to locate the file with the wildcard at file name since only one file per sub sub folder"
   ]
  },
  {
   "cell_type": "code",
   "execution_count": 50,
   "metadata": {},
   "outputs": [],
   "source": [
    "cancer_exams = traingroups[traingroups.Cancer == 1].StudyUID.nunique()\n",
    "benign_exams = traingroups[traingroups.Benign == 1].StudyUID.nunique()\n",
    "actionable_exams = traingroups[traingroups.Actionable == 1].StudyUID.nunique()\n",
    "normal_exams = traingroups[traingroups.Normal == 1].StudyUID.nunique()"
   ]
  },
  {
   "cell_type": "code",
   "execution_count": 52,
   "metadata": {},
   "outputs": [
    {
     "name": "stdout",
     "output_type": "stream",
     "text": [
      "4362 unique patients, \n",
      "4838 unique exams, \n",
      "39 cancer exams, \n",
      "62 benign exams, \n",
      "179 actionable exams, \n",
      "4558 normal exams\n"
     ]
    }
   ],
   "source": [
    "print(\n",
    "    \"{} unique patients, \\n{} unique exams, \\n{} cancer exams, \\n{} benign exams, \\n{} actionable exams, \\n{} normal exams\".format(\n",
    "        num_train_pts, num_train_studies, cancer_exams, benign_exams, actionable_exams, normal_exams\n",
    "    )\n",
    ")"
   ]
  },
  {
   "attachments": {},
   "cell_type": "markdown",
   "metadata": {},
   "source": [
    "Actionable - studies that resulted in further imaging examinaton based on a mass or acrchitectural distortion noted in the study report. \"Specifically, we included studies that had a recommendation for a further imaging examination based on a mass or architectural distortion noted in the study report; did not result in a biopsy; had LCC, LMLO, RCC, and RMLO reconstruction views available; and did not contain spot compression among the 4 views.\"\n",
    "\n",
    "\n",
    "Benign - containing benign masses or arthitectural distortions biopsied based on this DBT exam.\"Specifically, in this group we included studies that had a BI-RADS score of 0, 4, 4A, 4B, 4C, or 5; had a mass or architectural distortion that was seen in the DBT imaging study in question that was identified using laterality and/or location noted in a related breast pathology report and was biopsied; had benign results of all biopsies per the pathology reports; and a radiologist was able to retrospectively locate at least 1 of the biopsied benign masses or architectural distortions in the reconstruction views from the study. One study for which the biopsied mass was visible only on spot compression views was excluded.\""
   ]
  },
  {
   "cell_type": "code",
   "execution_count": 53,
   "metadata": {},
   "outputs": [
    {
     "data": {
      "text/html": [
       "<div>\n",
       "<style scoped>\n",
       "    .dataframe tbody tr th:only-of-type {\n",
       "        vertical-align: middle;\n",
       "    }\n",
       "\n",
       "    .dataframe tbody tr th {\n",
       "        vertical-align: top;\n",
       "    }\n",
       "\n",
       "    .dataframe thead th {\n",
       "        text-align: right;\n",
       "    }\n",
       "</style>\n",
       "<table border=\"1\" class=\"dataframe\">\n",
       "  <thead>\n",
       "    <tr style=\"text-align: right;\">\n",
       "      <th></th>\n",
       "      <th>PatientID</th>\n",
       "      <th>StudyUID</th>\n",
       "      <th>View</th>\n",
       "      <th>descriptive_path</th>\n",
       "      <th>classic_path</th>\n",
       "      <th>real_path</th>\n",
       "    </tr>\n",
       "  </thead>\n",
       "  <tbody>\n",
       "    <tr>\n",
       "      <th>0</th>\n",
       "      <td>DBT-P00013</td>\n",
       "      <td>DBT-S00163</td>\n",
       "      <td>rmlo</td>\n",
       "      <td>Breast-Cancer-Screening-DBT/DBT-P00013/01-01-2000-DBT-S00163-MAMMO DIAGNOSTIC DIGITAL BILATERAL-56865/20566.000000-32081/1-1.dcm</td>\n",
       "      <td>Breast-Cancer-Screening-DBT/DBT-P00013/1.2.826.0.1.3680043.8.498.97194784071397240980122342729639556865/1.2.826.0.1.3680043.8.498.97979602815077649368346148322369132081/1-1.dcm</td>\n",
       "      <td>/scratch/ojomoleye/dukedata/DBT-P00013/1.2.826.0.1.3680043.8.498.97194784071397240980122342729639556865/1.2.826.0.1.3680043.8.498.97979602815077649368346148322369132081/*.dcm</td>\n",
       "    </tr>\n",
       "    <tr>\n",
       "      <th>1</th>\n",
       "      <td>DBT-P00023</td>\n",
       "      <td>DBT-S04378</td>\n",
       "      <td>lcc</td>\n",
       "      <td>Breast-Cancer-Screening-DBT/DBT-P00023/01-01-2000-DBT-S04378-MAMMO SCREENING DIGITAL BILATERAL-20650/19711.000000-14072/1-1.dcm</td>\n",
       "      <td>Breast-Cancer-Screening-DBT/DBT-P00023/1.2.826.0.1.3680043.8.498.46740855673424283641249631860253820650/1.2.826.0.1.3680043.8.498.12136582480949936067549454937434114072/1-1.dcm</td>\n",
       "      <td>/scratch/ojomoleye/dukedata/DBT-P00023/1.2.826.0.1.3680043.8.498.46740855673424283641249631860253820650/1.2.826.0.1.3680043.8.498.12136582480949936067549454937434114072/*.dcm</td>\n",
       "    </tr>\n",
       "    <tr>\n",
       "      <th>2</th>\n",
       "      <td>DBT-P00023</td>\n",
       "      <td>DBT-S04378</td>\n",
       "      <td>lmlo</td>\n",
       "      <td>Breast-Cancer-Screening-DBT/DBT-P00023/01-01-2000-DBT-S04378-MAMMO SCREENING DIGITAL BILATERAL-20650/19710.000000-51654/1-1.dcm</td>\n",
       "      <td>Breast-Cancer-Screening-DBT/DBT-P00023/1.2.826.0.1.3680043.8.498.46740855673424283641249631860253820650/1.2.826.0.1.3680043.8.498.90045035130681803298603121403642951654/1-1.dcm</td>\n",
       "      <td>/scratch/ojomoleye/dukedata/DBT-P00023/1.2.826.0.1.3680043.8.498.46740855673424283641249631860253820650/1.2.826.0.1.3680043.8.498.90045035130681803298603121403642951654/*.dcm</td>\n",
       "    </tr>\n",
       "    <tr>\n",
       "      <th>3</th>\n",
       "      <td>DBT-P00023</td>\n",
       "      <td>DBT-S04378</td>\n",
       "      <td>rcc</td>\n",
       "      <td>Breast-Cancer-Screening-DBT/DBT-P00023/01-01-2000-DBT-S04378-MAMMO SCREENING DIGITAL BILATERAL-20650/19712.000000-09387/1-1.dcm</td>\n",
       "      <td>Breast-Cancer-Screening-DBT/DBT-P00023/1.2.826.0.1.3680043.8.498.46740855673424283641249631860253820650/1.2.826.0.1.3680043.8.498.10822555886306795549982251172752709387/1-1.dcm</td>\n",
       "      <td>/scratch/ojomoleye/dukedata/DBT-P00023/1.2.826.0.1.3680043.8.498.46740855673424283641249631860253820650/1.2.826.0.1.3680043.8.498.10822555886306795549982251172752709387/*.dcm</td>\n",
       "    </tr>\n",
       "    <tr>\n",
       "      <th>4</th>\n",
       "      <td>DBT-P00023</td>\n",
       "      <td>DBT-S04378</td>\n",
       "      <td>rmlo</td>\n",
       "      <td>Breast-Cancer-Screening-DBT/DBT-P00023/01-01-2000-DBT-S04378-MAMMO SCREENING DIGITAL BILATERAL-20650/19713.000000-61579/1-1.dcm</td>\n",
       "      <td>Breast-Cancer-Screening-DBT/DBT-P00023/1.2.826.0.1.3680043.8.498.46740855673424283641249631860253820650/1.2.826.0.1.3680043.8.498.29938515490857039234478950570192161579/1-1.dcm</td>\n",
       "      <td>/scratch/ojomoleye/dukedata/DBT-P00023/1.2.826.0.1.3680043.8.498.46740855673424283641249631860253820650/1.2.826.0.1.3680043.8.498.29938515490857039234478950570192161579/*.dcm</td>\n",
       "    </tr>\n",
       "  </tbody>\n",
       "</table>\n",
       "</div>"
      ],
      "text/plain": [
       "    PatientID    StudyUID  View                                                                                                                  descriptive_path                                                                                                                                                                      classic_path                                                                                                                                                                       real_path\n",
       "0  DBT-P00013  DBT-S00163  rmlo  Breast-Cancer-Screening-DBT/DBT-P00013/01-01-2000-DBT-S00163-MAMMO DIAGNOSTIC DIGITAL BILATERAL-56865/20566.000000-32081/1-1.dcm  Breast-Cancer-Screening-DBT/DBT-P00013/1.2.826.0.1.3680043.8.498.97194784071397240980122342729639556865/1.2.826.0.1.3680043.8.498.97979602815077649368346148322369132081/1-1.dcm  /scratch/ojomoleye/dukedata/DBT-P00013/1.2.826.0.1.3680043.8.498.97194784071397240980122342729639556865/1.2.826.0.1.3680043.8.498.97979602815077649368346148322369132081/*.dcm\n",
       "1  DBT-P00023  DBT-S04378   lcc   Breast-Cancer-Screening-DBT/DBT-P00023/01-01-2000-DBT-S04378-MAMMO SCREENING DIGITAL BILATERAL-20650/19711.000000-14072/1-1.dcm  Breast-Cancer-Screening-DBT/DBT-P00023/1.2.826.0.1.3680043.8.498.46740855673424283641249631860253820650/1.2.826.0.1.3680043.8.498.12136582480949936067549454937434114072/1-1.dcm  /scratch/ojomoleye/dukedata/DBT-P00023/1.2.826.0.1.3680043.8.498.46740855673424283641249631860253820650/1.2.826.0.1.3680043.8.498.12136582480949936067549454937434114072/*.dcm\n",
       "2  DBT-P00023  DBT-S04378  lmlo   Breast-Cancer-Screening-DBT/DBT-P00023/01-01-2000-DBT-S04378-MAMMO SCREENING DIGITAL BILATERAL-20650/19710.000000-51654/1-1.dcm  Breast-Cancer-Screening-DBT/DBT-P00023/1.2.826.0.1.3680043.8.498.46740855673424283641249631860253820650/1.2.826.0.1.3680043.8.498.90045035130681803298603121403642951654/1-1.dcm  /scratch/ojomoleye/dukedata/DBT-P00023/1.2.826.0.1.3680043.8.498.46740855673424283641249631860253820650/1.2.826.0.1.3680043.8.498.90045035130681803298603121403642951654/*.dcm\n",
       "3  DBT-P00023  DBT-S04378   rcc   Breast-Cancer-Screening-DBT/DBT-P00023/01-01-2000-DBT-S04378-MAMMO SCREENING DIGITAL BILATERAL-20650/19712.000000-09387/1-1.dcm  Breast-Cancer-Screening-DBT/DBT-P00023/1.2.826.0.1.3680043.8.498.46740855673424283641249631860253820650/1.2.826.0.1.3680043.8.498.10822555886306795549982251172752709387/1-1.dcm  /scratch/ojomoleye/dukedata/DBT-P00023/1.2.826.0.1.3680043.8.498.46740855673424283641249631860253820650/1.2.826.0.1.3680043.8.498.10822555886306795549982251172752709387/*.dcm\n",
       "4  DBT-P00023  DBT-S04378  rmlo   Breast-Cancer-Screening-DBT/DBT-P00023/01-01-2000-DBT-S04378-MAMMO SCREENING DIGITAL BILATERAL-20650/19713.000000-61579/1-1.dcm  Breast-Cancer-Screening-DBT/DBT-P00023/1.2.826.0.1.3680043.8.498.46740855673424283641249631860253820650/1.2.826.0.1.3680043.8.498.29938515490857039234478950570192161579/1-1.dcm  /scratch/ojomoleye/dukedata/DBT-P00023/1.2.826.0.1.3680043.8.498.46740855673424283641249631860253820650/1.2.826.0.1.3680043.8.498.29938515490857039234478950570192161579/*.dcm"
      ]
     },
     "execution_count": 53,
     "metadata": {},
     "output_type": "execute_result"
    }
   ],
   "source": [
    "trainfiles.head()"
   ]
  },
  {
   "cell_type": "code",
   "execution_count": null,
   "metadata": {},
   "outputs": [],
   "source": []
  }
 ],
 "metadata": {
  "kernelspec": {
   "display_name": "maicara",
   "language": "python",
   "name": "python3"
  },
  "language_info": {
   "codemirror_mode": {
    "name": "ipython",
    "version": 3
   },
   "file_extension": ".py",
   "mimetype": "text/x-python",
   "name": "python",
   "nbconvert_exporter": "python",
   "pygments_lexer": "ipython3",
   "version": "3.8.16"
  },
  "orig_nbformat": 4,
  "vscode": {
   "interpreter": {
    "hash": "2c9ec582046c88176161940c26112eea98563d4ed92435ba718d3b7c5dd27996"
   }
  }
 },
 "nbformat": 4,
 "nbformat_minor": 2
}
